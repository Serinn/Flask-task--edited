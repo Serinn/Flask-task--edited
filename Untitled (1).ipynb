{
 "cells": [
  {
   "cell_type": "code",
   "execution_count": 35,
   "metadata": {},
   "outputs": [],
   "source": [
    "\n",
    "def prediction_results(data):\n",
    "    with open ('..\\lm_parameters.csv') as file:\n",
    "        read = csv.reader(file)\n",
    "        u=0\n",
    "        theta0 = 0\n",
    "        price= 0.0\n",
    "        for row in read:\n",
    "            if u==0:\n",
    "               thetas= row\n",
    "            elif u==1:\n",
    "              theta0=row\n",
    "            y+=1\n",
    "            x= data\n",
    "            thetas = [float(thetas) for thetas in thetas]\n",
    "            for indx, feature in enumurate(x):\n",
    "                \n",
    "                price += feature * thetas[indx]\n",
    "            price += theta0\n",
    "            \n",
    "            \n",
    "        return price  \n",
    "            \n",
    "        "
   ]
  },
  {
   "cell_type": "code",
   "execution_count": null,
   "metadata": {},
   "outputs": [],
   "source": []
  }
 ],
 "metadata": {
  "kernelspec": {
   "display_name": "Python 3",
   "language": "python",
   "name": "python3"
  },
  "language_info": {
   "codemirror_mode": {
    "name": "ipython",
    "version": 3
   },
   "file_extension": ".py",
   "mimetype": "text/x-python",
   "name": "python",
   "nbconvert_exporter": "python",
   "pygments_lexer": "ipython3",
   "version": "3.6.11"
  }
 },
 "nbformat": 4,
 "nbformat_minor": 4
}
